{
 "cells": [
  {
   "cell_type": "markdown",
   "id": "59831b29",
   "metadata": {},
   "source": [
    "# Machine Learning Final Project\n",
    "## By: Brett Beaulieu\n",
    "## Topic: Regression with Energy Efficiency."
   ]
  },
  {
   "cell_type": "markdown",
   "id": "b5608a86",
   "metadata": {},
   "source": [
    "Import all library used in the file."
   ]
  },
  {
   "cell_type": "code",
   "execution_count": 1,
   "id": "a5dfb420",
   "metadata": {},
   "outputs": [],
   "source": [
    "import numpy as np\n",
    "import matplotlib.pyplot as plt\n",
    "import pandas as pd\n",
    "from sklearn.ensemble import RandomForestClassifier\n",
    "from sklearn.ensemble import BaggingClassifier\n",
    "from sklearn.linear_model import LinearRegression\n",
    "from sklearn.linear_model import Ridge\n",
    "from sklearn.linear_model import Lasso\n",
    "from sklearn.linear_model import LogisticRegression\n",
    "from sklearn.metrics import mean_absolute_error\n",
    "from sklearn.metrics import mean_squared_error\n",
    "from sklearn.metrics import r2_score\n",
    "from sklearn.metrics import confusion_matrix\n",
    "from sklearn.metrics import accuracy_score\n",
    "from sklearn.metrics import precision_score\n",
    "from sklearn.metrics import recall_score\n",
    "from sklearn.metrics import f1_score\n",
    "from sklearn.metrics import roc_curve\n",
    "from sklearn.metrics import roc_auc_score\n",
    "from sklearn.metrics import classification_report\n",
    "from sklearn.metrics import plot_roc_curve\n",
    "from sklearn.model_selection import train_test_split\n",
    "from sklearn.preprocessing import StandardScaler\n",
    "from sklearn.preprocessing import MinMaxScaler\n",
    "from sklearn.preprocessing import RobustScaler\n",
    "from sklearn.preprocessing import Normalizer\n",
    "from sklearn.tree import DecisionTreeClassifier\n",
    "from imblearn.under_sampling import RandomUnderSampler\n",
    "from imblearn.over_sampling import RandomOverSampler\n",
    "from imblearn.over_sampling import SMOTE\n",
    "from sklearn.model_selection import GridSearchCV\n",
    "from math import sqrt"
   ]
  },
  {
   "cell_type": "markdown",
   "id": "470fb6e9",
   "metadata": {},
   "source": [
    "# Regression Dataset\n",
    "## Exploration and Preprocessing"
   ]
  },
  {
   "cell_type": "markdown",
   "id": "580dabc7",
   "metadata": {},
   "source": [
    "Load in the dataset from excel."
   ]
  },
  {
   "cell_type": "code",
   "execution_count": 2,
   "id": "e862c2af",
   "metadata": {},
   "outputs": [
    {
     "data": {
      "text/html": [
       "<div>\n",
       "<style scoped>\n",
       "    .dataframe tbody tr th:only-of-type {\n",
       "        vertical-align: middle;\n",
       "    }\n",
       "\n",
       "    .dataframe tbody tr th {\n",
       "        vertical-align: top;\n",
       "    }\n",
       "\n",
       "    .dataframe thead th {\n",
       "        text-align: right;\n",
       "    }\n",
       "</style>\n",
       "<table border=\"1\" class=\"dataframe\">\n",
       "  <thead>\n",
       "    <tr style=\"text-align: right;\">\n",
       "      <th></th>\n",
       "      <th>X1</th>\n",
       "      <th>X2</th>\n",
       "      <th>X3</th>\n",
       "      <th>X4</th>\n",
       "      <th>X5</th>\n",
       "      <th>X6</th>\n",
       "      <th>X7</th>\n",
       "      <th>X8</th>\n",
       "      <th>Y1</th>\n",
       "      <th>Y2</th>\n",
       "    </tr>\n",
       "  </thead>\n",
       "  <tbody>\n",
       "    <tr>\n",
       "      <th>0</th>\n",
       "      <td>0.98</td>\n",
       "      <td>514.5</td>\n",
       "      <td>294.0</td>\n",
       "      <td>110.25</td>\n",
       "      <td>7.0</td>\n",
       "      <td>2</td>\n",
       "      <td>0.0</td>\n",
       "      <td>0</td>\n",
       "      <td>15.55</td>\n",
       "      <td>21.33</td>\n",
       "    </tr>\n",
       "    <tr>\n",
       "      <th>1</th>\n",
       "      <td>0.98</td>\n",
       "      <td>514.5</td>\n",
       "      <td>294.0</td>\n",
       "      <td>110.25</td>\n",
       "      <td>7.0</td>\n",
       "      <td>3</td>\n",
       "      <td>0.0</td>\n",
       "      <td>0</td>\n",
       "      <td>15.55</td>\n",
       "      <td>21.33</td>\n",
       "    </tr>\n",
       "    <tr>\n",
       "      <th>2</th>\n",
       "      <td>0.98</td>\n",
       "      <td>514.5</td>\n",
       "      <td>294.0</td>\n",
       "      <td>110.25</td>\n",
       "      <td>7.0</td>\n",
       "      <td>4</td>\n",
       "      <td>0.0</td>\n",
       "      <td>0</td>\n",
       "      <td>15.55</td>\n",
       "      <td>21.33</td>\n",
       "    </tr>\n",
       "    <tr>\n",
       "      <th>3</th>\n",
       "      <td>0.98</td>\n",
       "      <td>514.5</td>\n",
       "      <td>294.0</td>\n",
       "      <td>110.25</td>\n",
       "      <td>7.0</td>\n",
       "      <td>5</td>\n",
       "      <td>0.0</td>\n",
       "      <td>0</td>\n",
       "      <td>15.55</td>\n",
       "      <td>21.33</td>\n",
       "    </tr>\n",
       "    <tr>\n",
       "      <th>4</th>\n",
       "      <td>0.90</td>\n",
       "      <td>563.5</td>\n",
       "      <td>318.5</td>\n",
       "      <td>122.50</td>\n",
       "      <td>7.0</td>\n",
       "      <td>2</td>\n",
       "      <td>0.0</td>\n",
       "      <td>0</td>\n",
       "      <td>20.84</td>\n",
       "      <td>28.28</td>\n",
       "    </tr>\n",
       "    <tr>\n",
       "      <th>...</th>\n",
       "      <td>...</td>\n",
       "      <td>...</td>\n",
       "      <td>...</td>\n",
       "      <td>...</td>\n",
       "      <td>...</td>\n",
       "      <td>...</td>\n",
       "      <td>...</td>\n",
       "      <td>...</td>\n",
       "      <td>...</td>\n",
       "      <td>...</td>\n",
       "    </tr>\n",
       "    <tr>\n",
       "      <th>763</th>\n",
       "      <td>0.64</td>\n",
       "      <td>784.0</td>\n",
       "      <td>343.0</td>\n",
       "      <td>220.50</td>\n",
       "      <td>3.5</td>\n",
       "      <td>5</td>\n",
       "      <td>0.4</td>\n",
       "      <td>5</td>\n",
       "      <td>17.88</td>\n",
       "      <td>21.40</td>\n",
       "    </tr>\n",
       "    <tr>\n",
       "      <th>764</th>\n",
       "      <td>0.62</td>\n",
       "      <td>808.5</td>\n",
       "      <td>367.5</td>\n",
       "      <td>220.50</td>\n",
       "      <td>3.5</td>\n",
       "      <td>2</td>\n",
       "      <td>0.4</td>\n",
       "      <td>5</td>\n",
       "      <td>16.54</td>\n",
       "      <td>16.88</td>\n",
       "    </tr>\n",
       "    <tr>\n",
       "      <th>765</th>\n",
       "      <td>0.62</td>\n",
       "      <td>808.5</td>\n",
       "      <td>367.5</td>\n",
       "      <td>220.50</td>\n",
       "      <td>3.5</td>\n",
       "      <td>3</td>\n",
       "      <td>0.4</td>\n",
       "      <td>5</td>\n",
       "      <td>16.44</td>\n",
       "      <td>17.11</td>\n",
       "    </tr>\n",
       "    <tr>\n",
       "      <th>766</th>\n",
       "      <td>0.62</td>\n",
       "      <td>808.5</td>\n",
       "      <td>367.5</td>\n",
       "      <td>220.50</td>\n",
       "      <td>3.5</td>\n",
       "      <td>4</td>\n",
       "      <td>0.4</td>\n",
       "      <td>5</td>\n",
       "      <td>16.48</td>\n",
       "      <td>16.61</td>\n",
       "    </tr>\n",
       "    <tr>\n",
       "      <th>767</th>\n",
       "      <td>0.62</td>\n",
       "      <td>808.5</td>\n",
       "      <td>367.5</td>\n",
       "      <td>220.50</td>\n",
       "      <td>3.5</td>\n",
       "      <td>5</td>\n",
       "      <td>0.4</td>\n",
       "      <td>5</td>\n",
       "      <td>16.64</td>\n",
       "      <td>16.03</td>\n",
       "    </tr>\n",
       "  </tbody>\n",
       "</table>\n",
       "<p>768 rows × 10 columns</p>\n",
       "</div>"
      ],
      "text/plain": [
       "       X1     X2     X3      X4   X5  X6   X7  X8     Y1     Y2\n",
       "0    0.98  514.5  294.0  110.25  7.0   2  0.0   0  15.55  21.33\n",
       "1    0.98  514.5  294.0  110.25  7.0   3  0.0   0  15.55  21.33\n",
       "2    0.98  514.5  294.0  110.25  7.0   4  0.0   0  15.55  21.33\n",
       "3    0.98  514.5  294.0  110.25  7.0   5  0.0   0  15.55  21.33\n",
       "4    0.90  563.5  318.5  122.50  7.0   2  0.0   0  20.84  28.28\n",
       "..    ...    ...    ...     ...  ...  ..  ...  ..    ...    ...\n",
       "763  0.64  784.0  343.0  220.50  3.5   5  0.4   5  17.88  21.40\n",
       "764  0.62  808.5  367.5  220.50  3.5   2  0.4   5  16.54  16.88\n",
       "765  0.62  808.5  367.5  220.50  3.5   3  0.4   5  16.44  17.11\n",
       "766  0.62  808.5  367.5  220.50  3.5   4  0.4   5  16.48  16.61\n",
       "767  0.62  808.5  367.5  220.50  3.5   5  0.4   5  16.64  16.03\n",
       "\n",
       "[768 rows x 10 columns]"
      ]
     },
     "execution_count": 2,
     "metadata": {},
     "output_type": "execute_result"
    }
   ],
   "source": [
    "dataset = pd.read_excel('ENB2012_data.xlsx')\n",
    "dataset = dataset[dataset.columns[:-2]]\n",
    "dataset"
   ]
  },
  {
   "cell_type": "markdown",
   "id": "47d040a0",
   "metadata": {},
   "source": [
    "Change the column headers to their original names."
   ]
  },
  {
   "cell_type": "code",
   "execution_count": 3,
   "id": "d191e16c",
   "metadata": {},
   "outputs": [
    {
     "data": {
      "text/html": [
       "<div>\n",
       "<style scoped>\n",
       "    .dataframe tbody tr th:only-of-type {\n",
       "        vertical-align: middle;\n",
       "    }\n",
       "\n",
       "    .dataframe tbody tr th {\n",
       "        vertical-align: top;\n",
       "    }\n",
       "\n",
       "    .dataframe thead th {\n",
       "        text-align: right;\n",
       "    }\n",
       "</style>\n",
       "<table border=\"1\" class=\"dataframe\">\n",
       "  <thead>\n",
       "    <tr style=\"text-align: right;\">\n",
       "      <th></th>\n",
       "      <th>Relative   Compactness</th>\n",
       "      <th>Surface   Area</th>\n",
       "      <th>Wall   Area</th>\n",
       "      <th>Roof   Area</th>\n",
       "      <th>Overall   Height</th>\n",
       "      <th>Orientation</th>\n",
       "      <th>Glazing   Area</th>\n",
       "      <th>Glazing Area   Distribution</th>\n",
       "      <th>Heating Load</th>\n",
       "      <th>Cooling Load</th>\n",
       "    </tr>\n",
       "  </thead>\n",
       "  <tbody>\n",
       "    <tr>\n",
       "      <th>0</th>\n",
       "      <td>0.98</td>\n",
       "      <td>514.5</td>\n",
       "      <td>294.0</td>\n",
       "      <td>110.25</td>\n",
       "      <td>7.0</td>\n",
       "      <td>2</td>\n",
       "      <td>0.0</td>\n",
       "      <td>0</td>\n",
       "      <td>15.55</td>\n",
       "      <td>21.33</td>\n",
       "    </tr>\n",
       "    <tr>\n",
       "      <th>1</th>\n",
       "      <td>0.98</td>\n",
       "      <td>514.5</td>\n",
       "      <td>294.0</td>\n",
       "      <td>110.25</td>\n",
       "      <td>7.0</td>\n",
       "      <td>3</td>\n",
       "      <td>0.0</td>\n",
       "      <td>0</td>\n",
       "      <td>15.55</td>\n",
       "      <td>21.33</td>\n",
       "    </tr>\n",
       "    <tr>\n",
       "      <th>2</th>\n",
       "      <td>0.98</td>\n",
       "      <td>514.5</td>\n",
       "      <td>294.0</td>\n",
       "      <td>110.25</td>\n",
       "      <td>7.0</td>\n",
       "      <td>4</td>\n",
       "      <td>0.0</td>\n",
       "      <td>0</td>\n",
       "      <td>15.55</td>\n",
       "      <td>21.33</td>\n",
       "    </tr>\n",
       "    <tr>\n",
       "      <th>3</th>\n",
       "      <td>0.98</td>\n",
       "      <td>514.5</td>\n",
       "      <td>294.0</td>\n",
       "      <td>110.25</td>\n",
       "      <td>7.0</td>\n",
       "      <td>5</td>\n",
       "      <td>0.0</td>\n",
       "      <td>0</td>\n",
       "      <td>15.55</td>\n",
       "      <td>21.33</td>\n",
       "    </tr>\n",
       "    <tr>\n",
       "      <th>4</th>\n",
       "      <td>0.90</td>\n",
       "      <td>563.5</td>\n",
       "      <td>318.5</td>\n",
       "      <td>122.50</td>\n",
       "      <td>7.0</td>\n",
       "      <td>2</td>\n",
       "      <td>0.0</td>\n",
       "      <td>0</td>\n",
       "      <td>20.84</td>\n",
       "      <td>28.28</td>\n",
       "    </tr>\n",
       "  </tbody>\n",
       "</table>\n",
       "</div>"
      ],
      "text/plain": [
       "   Relative   Compactness  Surface   Area  Wall   Area  Roof   Area  \\\n",
       "0                    0.98           514.5        294.0       110.25   \n",
       "1                    0.98           514.5        294.0       110.25   \n",
       "2                    0.98           514.5        294.0       110.25   \n",
       "3                    0.98           514.5        294.0       110.25   \n",
       "4                    0.90           563.5        318.5       122.50   \n",
       "\n",
       "   Overall   Height  Orientation  Glazing   Area  Glazing Area   Distribution  \\\n",
       "0               7.0            2             0.0                            0   \n",
       "1               7.0            3             0.0                            0   \n",
       "2               7.0            4             0.0                            0   \n",
       "3               7.0            5             0.0                            0   \n",
       "4               7.0            2             0.0                            0   \n",
       "\n",
       "   Heating Load  Cooling Load  \n",
       "0         15.55         21.33  \n",
       "1         15.55         21.33  \n",
       "2         15.55         21.33  \n",
       "3         15.55         21.33  \n",
       "4         20.84         28.28  "
      ]
     },
     "execution_count": 3,
     "metadata": {},
     "output_type": "execute_result"
    }
   ],
   "source": [
    "dataset.columns = ['Relative   Compactness', 'Surface   Area', 'Wall   Area', 'Roof   Area', 'Overall   Height'\n",
    "                , 'Orientation', 'Glazing   Area', 'Glazing Area   Distribution', 'Heating Load', 'Cooling Load']\n",
    "dataset.head()"
   ]
  },
  {
   "cell_type": "markdown",
   "id": "5cb79250",
   "metadata": {},
   "source": [
    "Check for null values in the dataset."
   ]
  },
  {
   "cell_type": "code",
   "execution_count": 4,
   "id": "3c6de255",
   "metadata": {},
   "outputs": [
    {
     "data": {
      "text/plain": [
       "Relative   Compactness         0\n",
       "Surface   Area                 0\n",
       "Wall   Area                    0\n",
       "Roof   Area                    0\n",
       "Overall   Height               0\n",
       "Orientation                    0\n",
       "Glazing   Area                 0\n",
       "Glazing Area   Distribution    0\n",
       "Heating Load                   0\n",
       "Cooling Load                   0\n",
       "dtype: int64"
      ]
     },
     "execution_count": 4,
     "metadata": {},
     "output_type": "execute_result"
    }
   ],
   "source": [
    "dataset.isnull().sum()"
   ]
  },
  {
   "cell_type": "markdown",
   "id": "cbd342aa",
   "metadata": {},
   "source": [
    "Visualize the data through histograms."
   ]
  },
  {
   "cell_type": "code",
   "execution_count": 5,
   "id": "fc2d0b82",
   "metadata": {},
   "outputs": [
    {
     "data": {
      "image/png": "[encoded data removed]",
      "text/plain": [
       "<Figure size 648x648 with 12 Axes>"
      ]
     },
     "metadata": {
      "needs_background": "light"
     },
     "output_type": "display_data"
    }
   ],
   "source": [
    "dataset.hist(figsize=(9,9))\n",
    "plt.show()"
   ]
  },
  {
   "cell_type": "markdown",
   "id": "e1e84b0b",
   "metadata": {},
   "source": [
    "Assign columns to their respective X and y. Heating and Cooling loads should be the y variable."
   ]
  },
  {
   "cell_type": "code",
   "execution_count": 6,
   "id": "b7d92b2b",
   "metadata": {},
   "outputs": [
    {
     "data": {
      "text/html": [
       "<div>\n",
       "<style scoped>\n",
       "    .dataframe tbody tr th:only-of-type {\n",
       "        vertical-align: middle;\n",
       "    }\n",
       "\n",
       "    .dataframe tbody tr th {\n",
       "        vertical-align: top;\n",
       "    }\n",
       "\n",
       "    .dataframe thead th {\n",
       "        text-align: right;\n",
       "    }\n",
       "</style>\n",
       "<table border=\"1\" class=\"dataframe\">\n",
       "  <thead>\n",
       "    <tr style=\"text-align: right;\">\n",
       "      <th></th>\n",
       "      <th>Relative   Compactness</th>\n",
       "      <th>Surface   Area</th>\n",
       "      <th>Wall   Area</th>\n",
       "      <th>Roof   Area</th>\n",
       "      <th>Overall   Height</th>\n",
       "      <th>Orientation</th>\n",
       "      <th>Glazing   Area</th>\n",
       "      <th>Glazing Area   Distribution</th>\n",
       "    </tr>\n",
       "  </thead>\n",
       "  <tbody>\n",
       "    <tr>\n",
       "      <th>0</th>\n",
       "      <td>0.98</td>\n",
       "      <td>514.5</td>\n",
       "      <td>294.0</td>\n",
       "      <td>110.25</td>\n",
       "      <td>7.0</td>\n",
       "      <td>2</td>\n",
       "      <td>0.0</td>\n",
       "      <td>0</td>\n",
       "    </tr>\n",
       "    <tr>\n",
       "      <th>1</th>\n",
       "      <td>0.98</td>\n",
       "      <td>514.5</td>\n",
       "      <td>294.0</td>\n",
       "      <td>110.25</td>\n",
       "      <td>7.0</td>\n",
       "      <td>3</td>\n",
       "      <td>0.0</td>\n",
       "      <td>0</td>\n",
       "    </tr>\n",
       "    <tr>\n",
       "      <th>2</th>\n",
       "      <td>0.98</td>\n",
       "      <td>514.5</td>\n",
       "      <td>294.0</td>\n",
       "      <td>110.25</td>\n",
       "      <td>7.0</td>\n",
       "      <td>4</td>\n",
       "      <td>0.0</td>\n",
       "      <td>0</td>\n",
       "    </tr>\n",
       "    <tr>\n",
       "      <th>3</th>\n",
       "      <td>0.98</td>\n",
       "      <td>514.5</td>\n",
       "      <td>294.0</td>\n",
       "      <td>110.25</td>\n",
       "      <td>7.0</td>\n",
       "      <td>5</td>\n",
       "      <td>0.0</td>\n",
       "      <td>0</td>\n",
       "    </tr>\n",
       "    <tr>\n",
       "      <th>4</th>\n",
       "      <td>0.90</td>\n",
       "      <td>563.5</td>\n",
       "      <td>318.5</td>\n",
       "      <td>122.50</td>\n",
       "      <td>7.0</td>\n",
       "      <td>2</td>\n",
       "      <td>0.0</td>\n",
       "      <td>0</td>\n",
       "    </tr>\n",
       "    <tr>\n",
       "      <th>...</th>\n",
       "      <td>...</td>\n",
       "      <td>...</td>\n",
       "      <td>...</td>\n",
       "      <td>...</td>\n",
       "      <td>...</td>\n",
       "      <td>...</td>\n",
       "      <td>...</td>\n",
       "      <td>...</td>\n",
       "    </tr>\n",
       "    <tr>\n",
       "      <th>763</th>\n",
       "      <td>0.64</td>\n",
       "      <td>784.0</td>\n",
       "      <td>343.0</td>\n",
       "      <td>220.50</td>\n",
       "      <td>3.5</td>\n",
       "      <td>5</td>\n",
       "      <td>0.4</td>\n",
       "      <td>5</td>\n",
       "    </tr>\n",
       "    <tr>\n",
       "      <th>764</th>\n",
       "      <td>0.62</td>\n",
       "      <td>808.5</td>\n",
       "      <td>367.5</td>\n",
       "      <td>220.50</td>\n",
       "      <td>3.5</td>\n",
       "      <td>2</td>\n",
       "      <td>0.4</td>\n",
       "      <td>5</td>\n",
       "    </tr>\n",
       "    <tr>\n",
       "      <th>765</th>\n",
       "      <td>0.62</td>\n",
       "      <td>808.5</td>\n",
       "      <td>367.5</td>\n",
       "      <td>220.50</td>\n",
       "      <td>3.5</td>\n",
       "      <td>3</td>\n",
       "      <td>0.4</td>\n",
       "      <td>5</td>\n",
       "    </tr>\n",
       "    <tr>\n",
       "      <th>766</th>\n",
       "      <td>0.62</td>\n",
       "      <td>808.5</td>\n",
       "      <td>367.5</td>\n",
       "      <td>220.50</td>\n",
       "      <td>3.5</td>\n",
       "      <td>4</td>\n",
       "      <td>0.4</td>\n",
       "      <td>5</td>\n",
       "    </tr>\n",
       "    <tr>\n",
       "      <th>767</th>\n",
       "      <td>0.62</td>\n",
       "      <td>808.5</td>\n",
       "      <td>367.5</td>\n",
       "      <td>220.50</td>\n",
       "      <td>3.5</td>\n",
       "      <td>5</td>\n",
       "      <td>0.4</td>\n",
       "      <td>5</td>\n",
       "    </tr>\n",
       "  </tbody>\n",
       "</table>\n",
       "<p>768 rows × 8 columns</p>\n",
       "</div>"
      ],
      "text/plain": [
       "     Relative   Compactness  Surface   Area  Wall   Area  Roof   Area  \\\n",
       "0                      0.98           514.5        294.0       110.25   \n",
       "1                      0.98           514.5        294.0       110.25   \n",
       "2                      0.98           514.5        294.0       110.25   \n",
       "3                      0.98           514.5        294.0       110.25   \n",
       "4                      0.90           563.5        318.5       122.50   \n",
       "..                      ...             ...          ...          ...   \n",
       "763                    0.64           784.0        343.0       220.50   \n",
       "764                    0.62           808.5        367.5       220.50   \n",
       "765                    0.62           808.5        367.5       220.50   \n",
       "766                    0.62           808.5        367.5       220.50   \n",
       "767                    0.62           808.5        367.5       220.50   \n",
       "\n",
       "     Overall   Height  Orientation  Glazing   Area  \\\n",
       "0                 7.0            2             0.0   \n",
       "1                 7.0            3             0.0   \n",
       "2                 7.0            4             0.0   \n",
       "3                 7.0            5             0.0   \n",
       "4                 7.0            2             0.0   \n",
       "..                ...          ...             ...   \n",
       "763               3.5            5             0.4   \n",
       "764               3.5            2             0.4   \n",
       "765               3.5            3             0.4   \n",
       "766               3.5            4             0.4   \n",
       "767               3.5            5             0.4   \n",
       "\n",
       "     Glazing Area   Distribution  \n",
       "0                              0  \n",
       "1                              0  \n",
       "2                              0  \n",
       "3                              0  \n",
       "4                              0  \n",
       "..                           ...  \n",
       "763                            5  \n",
       "764                            5  \n",
       "765                            5  \n",
       "766                            5  \n",
       "767                            5  \n",
       "\n",
       "[768 rows x 8 columns]"
      ]
     },
     "execution_count": 6,
     "metadata": {},
     "output_type": "execute_result"
    }
   ],
   "source": [
    "X = dataset.drop(['Heating Load','Cooling Load'], axis=1)\n",
    "y = dataset[['Heating Load','Cooling Load']]\n",
    "X"
   ]
  },
  {
   "cell_type": "markdown",
   "id": "1ddfe05b",
   "metadata": {},
   "source": [
    "Split up the training and testing set with a test size of 0.33."
   ]
  },
  {
   "cell_type": "code",
   "execution_count": 7,
   "id": "ae03ed7b",
   "metadata": {},
   "outputs": [],
   "source": [
    "from sklearn.model_selection import train_test_split\n",
    "X_train, X_test, y_train, y_test = train_test_split(X, y, test_size = 0.33, random_state = 42)"
   ]
  },
  {
   "cell_type": "markdown",
   "id": "2f7a10ea",
   "metadata": {},
   "source": [
    "Normalize the training and testing data."
   ]
  },
  {
   "cell_type": "code",
   "execution_count": 8,
   "id": "755c2260",
   "metadata": {},
   "outputs": [],
   "source": [
    "nr = Normalizer(copy=False)\n",
    "X_train_norm = nr.fit_transform(X_train)\n",
    "X_test_norm = nr.fit_transform(X_test)"
   ]
  },
  {
   "cell_type": "markdown",
   "id": "c4e7de05",
   "metadata": {},
   "source": [
    "## Linear Regression"
   ]
  },
  {
   "cell_type": "markdown",
   "id": "68415dac",
   "metadata": {},
   "source": [
    "Perform Linear Regression on the dataset."
   ]
  },
  {
   "cell_type": "code",
   "execution_count": 9,
   "id": "f18c63d9",
   "metadata": {},
   "outputs": [
    {
     "data": {
      "text/plain": [
       "LinearRegression(normalize=True)"
      ]
     },
     "execution_count": 9,
     "metadata": {},
     "output_type": "execute_result"
    }
   ],
   "source": [
    "lr = LinearRegression(normalize=True)\n",
    "lr.fit(X_train_norm,y_train)"
   ]
  },
  {
   "cell_type": "markdown",
   "id": "ebeecfd5",
   "metadata": {},
   "source": [
    "Using the Linear Regression model predict values based off the test data."
   ]
  },
  {
   "cell_type": "code",
   "execution_count": 10,
   "id": "13c20377",
   "metadata": {},
   "outputs": [
    {
     "data": {
      "text/plain": [
       "array([[18.37424611, 19.66773346],\n",
       "       [13.71799611, 16.44898346],\n",
       "       [32.03049611, 32.48023346],\n",
       "       [35.74924611, 36.63648346],\n",
       "       [15.15549611, 17.35523346],\n",
       "       [28.31174611, 30.82398346],\n",
       "       [24.12424611, 27.01148346],\n",
       "       [27.96799611, 29.60523346],\n",
       "       [17.12424611, 18.91773346],\n",
       "       [27.24924611, 29.57398346],\n",
       "       [17.43674611, 19.29273346],\n",
       "       [34.74924611, 35.82398346],\n",
       "       [27.31174611, 29.98023346],\n",
       "       [ 8.96799611, 12.49585846],\n",
       "       [18.06174611, 19.07398346],\n",
       "       [37.09299611, 37.73023346],\n",
       "       [37.78049611, 38.01148346],\n",
       "       [11.70237111, 14.54273346],\n",
       "       [15.07737111, 17.16773346],\n",
       "       [34.65549611, 35.88648346],\n",
       "       [34.43674611, 35.44898346],\n",
       "       [35.03049611, 36.16773346],\n",
       "       [11.03049611, 14.69898346],\n",
       "       [29.68674611, 31.88648346],\n",
       "       [12.84299611, 15.51148346],\n",
       "       [29.62424611, 32.07398346],\n",
       "       [33.74924611, 34.60523346],\n",
       "       [34.31174611, 35.82398346],\n",
       "       [14.53049611, 17.07398346],\n",
       "       [15.74924611, 18.10523346],\n",
       "       [ 8.26487111, 12.23023346],\n",
       "       [11.13987111, 14.68335846],\n",
       "       [14.96799611, 17.23023346],\n",
       "       [30.68674611, 32.94898346],\n",
       "       [28.68674611, 32.01148346],\n",
       "       [27.84299611, 29.82398346],\n",
       "       [31.49924611, 32.69898346],\n",
       "       [28.78049611, 31.98023346],\n",
       "       [33.71799611, 34.73023346],\n",
       "       [ 9.03049611, 13.12085846],\n",
       "       [28.78049611, 30.07398346],\n",
       "       [11.76487111, 14.44898346],\n",
       "       [ 6.81174611, 11.71460846],\n",
       "       [32.81174611, 34.51148346],\n",
       "       [ 7.76487111, 12.18335846],\n",
       "       [ 6.76487111, 11.79273346],\n",
       "       [ 8.90549611, 13.41773346],\n",
       "       [ 9.04612111, 13.02710846],\n",
       "       [28.78049611, 31.88648346],\n",
       "       [31.03049611, 32.54273346],\n",
       "       [34.06174611, 34.73023346],\n",
       "       [14.62424611, 16.66773346],\n",
       "       [13.81174611, 16.73023346],\n",
       "       [32.56174611, 34.48023346],\n",
       "       [12.74924611, 15.49585846],\n",
       "       [12.62424611, 15.54273346],\n",
       "       [11.17112111, 14.40210846],\n",
       "       [31.68674611, 33.41773346],\n",
       "       [40.46799611, 39.91773346],\n",
       "       [37.37424611, 37.85523346],\n",
       "       [16.24924611, 17.91773346],\n",
       "       [18.78049611, 19.79273346],\n",
       "       [14.53049611, 16.88648346],\n",
       "       [28.49924611, 31.04273346],\n",
       "       [28.71799611, 30.19898346],\n",
       "       [29.49924611, 32.26148346],\n",
       "       [29.49924611, 32.10523346],\n",
       "       [11.06174611, 14.48023346],\n",
       "       [13.46799611, 16.35523346],\n",
       "       [11.43674611, 14.52710846],\n",
       "       [26.49924611, 29.66773346],\n",
       "       [32.65549611, 32.54273346],\n",
       "       [13.57737111, 15.74585846],\n",
       "       [27.68674611, 30.79273346],\n",
       "       [32.53049611, 34.41773346],\n",
       "       [11.15549611, 14.52710846],\n",
       "       [34.93674611, 35.79273346],\n",
       "       [31.21799611, 33.10523346],\n",
       "       [31.37424611, 32.32398346],\n",
       "       [22.99924611, 27.63648346],\n",
       "       [24.84299611, 27.04273346],\n",
       "       [32.81174611, 34.10523346],\n",
       "       [ 9.48362111, 13.24585846],\n",
       "       [15.78049611, 17.82398346],\n",
       "       [11.49924611, 14.63648346],\n",
       "       [15.82737111, 17.33960846],\n",
       "       [26.03049611, 29.57398346],\n",
       "       [36.81174611, 37.79273346],\n",
       "       [28.84299611, 31.82398346],\n",
       "       [14.43674611, 17.35523346],\n",
       "       [12.15549611, 15.29273346],\n",
       "       [30.90549611, 33.26148346],\n",
       "       [ 9.82737111, 13.62085846],\n",
       "       [14.43674611, 16.60523346],\n",
       "       [37.24924611, 37.88648346],\n",
       "       [14.34299611, 16.79273346],\n",
       "       [26.68674611, 29.60523346],\n",
       "       [30.06174611, 32.07398346],\n",
       "       [ 9.81174611, 13.12085846],\n",
       "       [ 9.09299611, 12.91773346],\n",
       "       [39.78049611, 39.79273346],\n",
       "       [27.49924611, 29.79273346],\n",
       "       [ 8.01487111, 12.12085846],\n",
       "       [27.78049611, 29.66773346],\n",
       "       [29.46799611, 31.94898346],\n",
       "       [18.09299611, 19.54273346],\n",
       "       [27.34299611, 30.98023346],\n",
       "       [18.53049611, 19.69898346],\n",
       "       [15.76487111, 17.93335846],\n",
       "       [10.88987111, 14.48023346],\n",
       "       [34.18674611, 35.91773346],\n",
       "       [33.56174611, 34.29273346],\n",
       "       [23.78049611, 26.88648346],\n",
       "       [16.81174611, 18.63648346],\n",
       "       [11.38987111, 14.68335846],\n",
       "       [15.06174611, 17.27710846],\n",
       "       [10.48362111, 13.93335846],\n",
       "       [ 8.51487111, 12.26148346],\n",
       "       [13.59299611, 15.88648346],\n",
       "       [23.81174611, 28.04273346],\n",
       "       [27.49924611, 29.63648346],\n",
       "       [10.73362111, 14.04273346],\n",
       "       [31.65549611, 34.41773346],\n",
       "       [15.49924611, 18.07398346],\n",
       "       [26.90549611, 29.60523346],\n",
       "       [17.90549611, 19.38648346],\n",
       "       [16.01487111, 17.90210846],\n",
       "       [29.78049611, 32.29273346],\n",
       "       [24.71799611, 27.13648346],\n",
       "       [39.74924611, 39.88648346],\n",
       "       [20.87424611, 25.13648346],\n",
       "       [34.56174611, 36.10523346],\n",
       "       [15.56174611, 17.94898346],\n",
       "       [14.51487111, 16.60523346],\n",
       "       [15.01487111, 17.35523346],\n",
       "       [17.71799611, 19.26148346],\n",
       "       [33.40549611, 34.63648346],\n",
       "       [35.62424611, 36.69898346],\n",
       "       [14.10862111, 16.85523346],\n",
       "       [17.34299611, 19.01148346],\n",
       "       [ 8.92112111, 13.23023346],\n",
       "       [40.46799611, 40.16773346],\n",
       "       [28.53049611, 29.88648346],\n",
       "       [31.12424611, 32.44898346],\n",
       "       [34.31174611, 34.73023346],\n",
       "       [11.24924611, 14.54273346],\n",
       "       [ 8.67112111, 12.46460846],\n",
       "       [26.43674611, 29.69898346],\n",
       "       [34.62424611, 34.85523346],\n",
       "       [32.15549611, 34.32398346],\n",
       "       [33.40549611, 34.66773346],\n",
       "       [29.24924611, 31.63648346],\n",
       "       [28.96799611, 31.57398346],\n",
       "       [12.62424611, 15.38648346],\n",
       "       [27.53049611, 30.63648346],\n",
       "       [17.24924611, 19.13648346],\n",
       "       [29.18674611, 31.82398346],\n",
       "       [29.93674611, 32.23023346],\n",
       "       [11.65549611, 14.94898346],\n",
       "       [30.34299611, 31.98023346],\n",
       "       [33.34299611, 34.79273346],\n",
       "       [31.87424611, 34.16773346],\n",
       "       [18.46799611, 19.79273346],\n",
       "       [11.84299611, 15.35523346],\n",
       "       [14.74924611, 17.16773346],\n",
       "       [12.53049611, 15.66773346],\n",
       "       [27.93674611, 30.98023346],\n",
       "       [33.93674611, 35.66773346],\n",
       "       [34.96799611, 35.85523346],\n",
       "       [ 9.95237111, 13.85523346],\n",
       "       [11.06174611, 14.69898346],\n",
       "       [33.90549611, 35.79273346],\n",
       "       [ 9.03049611, 12.40210846],\n",
       "       [32.28049611, 32.63648346],\n",
       "       [13.74924611, 16.32398346],\n",
       "       [35.56174611, 36.32398346],\n",
       "       [11.21799611, 14.82398346],\n",
       "       [14.99924611, 16.82398346],\n",
       "       [34.37424611, 35.88648346],\n",
       "       [34.49924611, 35.79273346],\n",
       "       [ 6.96799611, 11.52710846],\n",
       "       [15.62424611, 17.55835846],\n",
       "       [33.59299611, 34.82398346],\n",
       "       [14.96799611, 16.85523346],\n",
       "       [30.03049611, 31.91773346],\n",
       "       [12.21799611, 15.19898346],\n",
       "       [28.62424611, 29.73023346],\n",
       "       [13.88987111, 16.65210846],\n",
       "       [11.82737111, 15.32398346],\n",
       "       [35.21799611, 36.48023346],\n",
       "       [23.90549611, 27.94898346],\n",
       "       [16.49924611, 18.63648346],\n",
       "       [37.09299611, 37.88648346],\n",
       "       [ 7.99924611, 12.21460846],\n",
       "       [32.24924611, 33.98023346],\n",
       "       [32.96799611, 34.29273346],\n",
       "       [24.43674611, 27.04273346],\n",
       "       [13.49924611, 15.90210846],\n",
       "       [27.46799611, 29.88648346],\n",
       "       [11.31174611, 14.51148346],\n",
       "       [14.73362111, 17.46460846],\n",
       "       [33.90549611, 34.94898346],\n",
       "       [18.37424611, 19.91773346],\n",
       "       [29.43674611, 32.04273346],\n",
       "       [10.03049611, 13.94898346],\n",
       "       [34.46799611, 35.57398346],\n",
       "       [27.74924611, 30.73023346],\n",
       "       [28.87424611, 29.94898346],\n",
       "       [25.62424611, 29.10523346],\n",
       "       [12.46799611, 15.77710846],\n",
       "       [34.71799611, 35.57398346],\n",
       "       [17.18674611, 18.76148346],\n",
       "       [17.87424611, 19.57398346],\n",
       "       [31.34299611, 32.38648346],\n",
       "       [ 5.74924611, 10.60523346],\n",
       "       [13.34299611, 15.77710846],\n",
       "       [27.62424611, 29.98023346],\n",
       "       [29.71799611, 32.13648346],\n",
       "       [30.81174611, 33.35523346],\n",
       "       [13.65549611, 16.73023346],\n",
       "       [27.65549611, 30.91773346],\n",
       "       [ 9.74924611, 13.66773346],\n",
       "       [23.62424611, 27.16773346],\n",
       "       [32.71799611, 34.26148346],\n",
       "       [17.96799611, 19.26148346],\n",
       "       [15.46799611, 17.58960846],\n",
       "       [17.28049611, 19.19898346],\n",
       "       [27.34299611, 29.82398346],\n",
       "       [32.31174611, 34.23023346],\n",
       "       [14.53049611, 17.16773346],\n",
       "       [30.62424611, 33.16773346],\n",
       "       [15.40549611, 17.91773346],\n",
       "       [12.12424611, 15.51148346],\n",
       "       [31.21799611, 32.38648346],\n",
       "       [34.87424611, 36.51148346],\n",
       "       [26.43674611, 30.38648346],\n",
       "       [35.24924611, 36.38648346],\n",
       "       [13.09299611, 15.98023346],\n",
       "       [13.68674611, 16.60523346],\n",
       "       [ 8.93674611, 12.54273346],\n",
       "       [31.90549611, 32.66773346],\n",
       "       [ 9.71799611, 13.77710846],\n",
       "       [27.43674611, 30.73023346],\n",
       "       [32.96799611, 34.16773346],\n",
       "       [34.87424611, 35.88648346],\n",
       "       [ 6.88987111, 11.60523346],\n",
       "       [15.28049611, 17.98023346],\n",
       "       [39.84299611, 40.07398346],\n",
       "       [14.81174611, 17.19898346],\n",
       "       [36.74924611, 37.94898346],\n",
       "       [15.81174611, 17.91773346],\n",
       "       [11.40549611, 14.76148346],\n",
       "       [32.59299611, 34.29273346],\n",
       "       [34.21799611, 35.01148346]])"
      ]
     },
     "execution_count": 10,
     "metadata": {},
     "output_type": "execute_result"
    }
   ],
   "source": [
    "y_pred = lr.predict(X_test_norm)\n",
    "y_pred"
   ]
  },
  {
   "cell_type": "markdown",
   "id": "5b5306cd",
   "metadata": {},
   "source": [
    "Output the error scores and scores of the Linear Regression predicition."
   ]
  },
  {
   "cell_type": "code",
   "execution_count": 11,
   "id": "0a162a07",
   "metadata": {},
   "outputs": [
    {
     "name": "stdout",
     "output_type": "stream",
     "text": [
      "Mean Absolute Error             2.1419015824626975\n",
      "Root Mean Squared Error         3.064763987733124\n",
      "Mean Squared Absolute Error     9.39277830050584\n",
      "R2 Score                        0.9036148603886349\n"
     ]
    }
   ],
   "source": [
    "print('Mean Absolute Error', str(mean_absolute_error(y_test, y_pred)).rjust(30))\n",
    "print('Root Mean Squared Error', str(sqrt(mean_squared_error(y_test, y_pred))).rjust(25))\n",
    "print('Mean Squared Absolute Error',str(mean_squared_error(y_test, y_pred)).rjust(20))\n",
    "print('R2 Score', str(r2_score(y_test, y_pred)).rjust(41))"
   ]
  },
  {
   "cell_type": "markdown",
   "id": "98c43762",
   "metadata": {},
   "source": [
    "Plot a graph of the predicted Linear Regression data for Heating Load vs the real test data."
   ]
  },
  {
   "cell_type": "code",
   "execution_count": 12,
   "id": "fe2e461b",
   "metadata": {},
   "outputs": [
    {
     "data": {
      "text/plain": [
       "Text(0, 0.5, 'Predicted Values')"
      ]
     },
     "execution_count": 12,
     "metadata": {},
     "output_type": "execute_result"
    },
    {
     "data": {
      "image/png": "[encoded data removed]",
      "text/plain": [
       "<Figure size 432x288 with 1 Axes>"
      ]
     },
     "metadata": {
      "needs_background": "light"
     },
     "output_type": "display_data"
    }
   ],
   "source": [
    "plt.scatter(y_test.iloc[:,0], y_pred[:,0])\n",
    "plt.plot([0,50], [0, 50],\"r-\")\n",
    "plt.title('Linear Regression Predicted Heating Load')\n",
    "plt.xlabel('Test Values')\n",
    "plt.ylabel('Predicted Values')"
   ]
  },
  {
   "cell_type": "markdown",
   "id": "57eeb0bc",
   "metadata": {},
   "source": [
    "Plot a graph of the predicted Linear Regression data for Cooling Load vs the real test data."
   ]
  },
  {
   "cell_type": "code",
   "execution_count": 13,
   "id": "6c2418e1",
   "metadata": {},
   "outputs": [
    {
     "data": {
      "text/plain": [
       "Text(0, 0.5, 'Predicted Values')"
      ]
     },
     "execution_count": 13,
     "metadata": {},
     "output_type": "execute_result"
    },
    {
     "data": {
      "image/png": "[encoded data removed]",
      "text/plain": [
       "<Figure size 432x288 with 1 Axes>"
      ]
     },
     "metadata": {
      "needs_background": "light"
     },
     "output_type": "display_data"
    }
   ],
   "source": [
    "plt.scatter(y_test.iloc[:,1], y_pred[:,1])\n",
    "plt.plot([0,50], [0, 50],\"r-\")\n",
    "plt.title('Linear Regression Predicted Cooling Load Load')\n",
    "plt.xlabel('Test Values')\n",
    "plt.ylabel('Predicted Values')"
   ]
  },
  {
   "cell_type": "markdown",
   "id": "771f3472",
   "metadata": {},
   "source": [
    "## Ridge Regression"
   ]
  },
  {
   "cell_type": "markdown",
   "id": "211dac42",
   "metadata": {},
   "source": [
    "Perform Ridge Regression on the normalized data."
   ]
  },
  {
   "cell_type": "code",
   "execution_count": 14,
   "id": "57f1fc00",
   "metadata": {},
   "outputs": [
    {
     "data": {
      "text/plain": [
       "Ridge(alpha=0.2)"
      ]
     },
     "execution_count": 14,
     "metadata": {},
     "output_type": "execute_result"
    }
   ],
   "source": [
    "ridge_reg = Ridge(alpha=0.2)\n",
    "ridge_reg.fit(X_train, y_train)"
   ]
  },
  {
   "cell_type": "markdown",
   "id": "ba00ab58",
   "metadata": {},
   "source": [
    "Predict the target elements basae on the testing data."
   ]
  },
  {
   "cell_type": "code",
   "execution_count": 15,
   "id": "8de4e7af",
   "metadata": {},
   "outputs": [
    {
     "data": {
      "text/plain": [
       "array([[19.5807136 , 20.50538015],\n",
       "       [13.82020669, 16.47584962],\n",
       "       [31.76753812, 32.46170392],\n",
       "       [35.70669872, 36.5528955 ],\n",
       "       [15.722287  , 17.67189224],\n",
       "       [28.63857479, 31.09305205],\n",
       "       [25.59483348, 28.25551284],\n",
       "       [28.56962092, 30.27529177],\n",
       "       [17.90176306, 19.47597074],\n",
       "       [27.67519609, 29.96023556],\n",
       "       [18.30604857, 19.90397025],\n",
       "       [33.36148488, 34.50903725],\n",
       "       [27.81437781, 30.31633492],\n",
       "       [ 8.18420115, 11.77535555],\n",
       "       [18.96217822, 19.76357132],\n",
       "       [35.76409071, 36.47974896],\n",
       "       [36.51742806, 36.79018247],\n",
       "       [10.85191077, 13.81796741],\n",
       "       [14.58293578, 16.73529935],\n",
       "       [33.31951086, 34.60377032],\n",
       "       [34.23909782, 35.25017591],\n",
       "       [34.99533539, 36.14772892],\n",
       "       [10.80344523, 14.55080376],\n",
       "       [29.92501994, 32.13440535],\n",
       "       [13.05457738, 15.62928038],\n",
       "       [29.88304592, 32.22913842],\n",
       "       [33.2337451 , 34.21209249],\n",
       "       [34.11317575, 35.53437513],\n",
       "       [14.96894965, 17.36145874],\n",
       "       [16.52197812, 18.67506736],\n",
       "       [ 7.4308638 , 11.46492205],\n",
       "       [10.23775514, 13.86363327],\n",
       "       [15.45718321, 17.5999921 ],\n",
       "       [30.77607683, 32.99186362],\n",
       "       [29.00378649, 32.20290413],\n",
       "       [28.48567287, 30.46475791],\n",
       "       [31.37651226, 32.67400299],\n",
       "       [29.04576052, 32.10817106],\n",
       "       [33.19177108, 34.30682557],\n",
       "       [ 8.36825711, 12.62384135],\n",
       "       [29.28098424, 30.68045834],\n",
       "       [10.89388479, 13.72323434],\n",
       "       [ 6.14794438, 11.14226653],\n",
       "       [32.6890284 , 34.33727766],\n",
       "       [ 7.33866136, 11.93314258],\n",
       "       [ 6.10597036, 11.2369996 ],\n",
       "       [ 8.54115847, 13.16396202],\n",
       "       [ 8.41023114, 12.52910827],\n",
       "       [29.22600741, 32.07896536],\n",
       "       [31.01229502, 32.50274707],\n",
       "       [33.49884889, 34.28399264],\n",
       "       [14.88062185, 16.76345019],\n",
       "       [13.95938841, 16.83194898],\n",
       "       [32.73191128, 34.53311657],\n",
       "       [12.31951166, 15.120687  ],\n",
       "       [12.74749956, 15.65211331],\n",
       "       [10.32170319, 13.67416712],\n",
       "       [31.75254394, 33.46893034],\n",
       "       [39.22711171, 38.73806126],\n",
       "       [36.02919451, 36.55164911],\n",
       "       [16.44304206, 18.02607505],\n",
       "       [20.11092119, 20.64918043],\n",
       "       [14.75469978, 17.04764941],\n",
       "       [28.81973053, 31.35441834],\n",
       "       [29.23901022, 30.77519142],\n",
       "       [29.79909787, 32.41860456],\n",
       "       [29.84107189, 32.32387149],\n",
       "       [10.88739327, 14.36133761],\n",
       "       [13.8542685 , 16.6324555 ],\n",
       "       [10.58680698, 13.74606727],\n",
       "       [27.06104046, 30.00590141],\n",
       "       [32.2977457 , 32.6055042 ],\n",
       "       [13.5941767 , 15.7220969 ],\n",
       "       [28.06639318, 31.04398483],\n",
       "       [32.42392461, 34.26537751],\n",
       "       [10.27972916, 13.7689002 ],\n",
       "       [34.68535735, 35.58344235],\n",
       "       [31.30628441, 33.13566391],\n",
       "       [31.23733054, 32.31790363],\n",
       "       [24.11485529, 28.38814547],\n",
       "       [26.16701509, 28.30458005],\n",
       "       [32.85783335, 34.24891735],\n",
       "       [ 8.89846469, 12.76764163],\n",
       "       [16.64790019, 18.39086814],\n",
       "       [11.37562683, 14.59987098],\n",
       "       [15.37824715, 16.95099979],\n",
       "       [26.82340158, 30.10825365],\n",
       "       [35.4570129 , 36.50258189],\n",
       "       [29.08773454, 32.01343799],\n",
       "       [14.84302758, 17.64565795],\n",
       "       [12.259266  , 15.41357995],\n",
       "       [30.95723257, 33.25322991],\n",
       "       [ 9.5589741 , 13.41471739],\n",
       "       [14.61551806, 16.69155005],\n",
       "       [35.98722048, 36.64638218],\n",
       "       [14.53157001, 16.8810162 ],\n",
       "       [27.39558318, 30.15732086],\n",
       "       [30.3283966 , 32.27183287],\n",
       "       [ 9.24751653, 12.65007563],\n",
       "       [ 8.45220516, 12.4343752 ],\n",
       "       [38.43180034, 38.52236082],\n",
       "       [28.22056908, 30.39285777],\n",
       "       [ 7.16576001, 11.3930219 ],\n",
       "       [28.20540368, 30.10403584],\n",
       "       [29.79818901, 32.12803258],\n",
       "       [19.31560981, 20.43348   ],\n",
       "       [27.71734134, 31.16155083],\n",
       "       [19.84581739, 20.57728029],\n",
       "       [15.87086046, 17.97700783],\n",
       "       [10.01462537, 13.69700005],\n",
       "       [32.74732925, 34.5547031 ],\n",
       "       [33.34515806, 34.19687873],\n",
       "       [25.32972969, 28.18361269],\n",
       "       [17.19927963, 18.92362806],\n",
       "       [10.50285893, 13.93553341],\n",
       "       [14.54096175, 16.83003243],\n",
       "       [10.27033742, 13.81988397],\n",
       "       [ 7.69596759, 11.53682219],\n",
       "       [13.55220267, 15.81682997],\n",
       "       [24.79875371, 28.61905967],\n",
       "       [27.94029989, 30.0321357 ],\n",
       "       [10.53544121, 13.89178411],\n",
       "       [30.21993871, 33.09596122],\n",
       "       [16.25687433, 18.60316722],\n",
       "       [27.36811828, 29.98306849],\n",
       "       [18.83625615, 20.04777053],\n",
       "       [16.17793827, 17.9541749 ],\n",
       "       [30.06420166, 32.49050471],\n",
       "       [26.12504106, 28.39931312],\n",
       "       [38.38982631, 38.6170939 ],\n",
       "       [23.06744293, 26.79677095],\n",
       "       [33.23556281, 34.79323646],\n",
       "       [16.29884835, 18.50843414],\n",
       "       [13.56159441, 15.7658462 ],\n",
       "       [14.49898773, 16.9247655 ],\n",
       "       [18.61312638, 19.88113732],\n",
       "       [33.21923598, 34.48107794],\n",
       "       [35.66472469, 36.64762857],\n",
       "       [13.17056855, 15.97814527],\n",
       "       [18.12489283, 19.64260396],\n",
       "       [ 8.32628309, 12.71857442],\n",
       "       [39.14316366, 38.9275274 ],\n",
       "       [29.05785448, 30.51382513],\n",
       "       [31.05426904, 32.40801399],\n",
       "       [33.76395269, 34.35589278],\n",
       "       [11.11052304, 14.52797083],\n",
       "       [ 7.87712333, 11.79818848],\n",
       "       [27.01906644, 30.10063449],\n",
       "       [34.02905648, 34.42779293],\n",
       "       [32.2017037 , 34.38931628],\n",
       "       [32.92666729, 34.23492542],\n",
       "       [29.61703327, 31.86666629],\n",
       "       [29.35192948, 31.79476615],\n",
       "       [12.0963819 , 14.95405378],\n",
       "       [27.84326341, 30.87735162],\n",
       "       [18.0829188 , 19.73733703],\n",
       "       [29.53308522, 32.05613243],\n",
       "       [29.99385388, 32.12041342],\n",
       "       [11.55678258, 14.86123726],\n",
       "       [30.34290572, 32.00284742],\n",
       "       [32.88469326, 34.3296585 ],\n",
       "       [31.97857393, 34.22268306],\n",
       "       [19.76186935, 20.76674644],\n",
       "       [11.95218819, 15.43641288],\n",
       "       [15.19207941, 17.52809195],\n",
       "       [12.70552554, 15.74684638],\n",
       "       [28.28952295, 31.21061805],\n",
       "       [32.52419949, 34.38806989],\n",
       "       [33.62658868, 34.58093739],\n",
       "       [ 9.74012984, 13.67608368],\n",
       "       [10.96456646, 14.65098104],\n",
       "       [32.48222546, 34.48280296],\n",
       "       [ 8.22617517, 11.68062248],\n",
       "       [31.99066789, 32.62833713],\n",
       "       [14.16134631, 16.60962257],\n",
       "       [35.52554297, 36.29152921],\n",
       "       [11.02657499, 14.71743698],\n",
       "       [14.04982797, 16.00437956],\n",
       "       [33.05440707, 34.53187017],\n",
       "       [33.09638109, 34.4371371 ],\n",
       "       [ 6.23189243, 10.95280039],\n",
       "       [15.73167874, 17.62090847],\n",
       "       [33.14979705, 34.40155864],\n",
       "       [14.00785395, 16.09911263],\n",
       "       [30.07780192, 31.93094727],\n",
       "       [12.30124003, 15.31884688],\n",
       "       [29.0998285 , 30.41909206],\n",
       "       [12.94743878, 15.81151206],\n",
       "       [11.2590965 , 14.83308642],\n",
       "       [35.17649113, 36.40909521],\n",
       "       [24.84072773, 28.5243266 ],\n",
       "       [16.89220182, 18.94646098],\n",
       "       [35.72211669, 36.57448204],\n",
       "       [ 7.12378598, 11.48775498],\n",
       "       [32.32762577, 34.10511706],\n",
       "       [33.08096312, 34.41555057],\n",
       "       [25.85993727, 28.32741298],\n",
       "       [13.51022865, 15.91156304],\n",
       "       [28.17859506, 30.48759084],\n",
       "       [11.15249707, 14.43323776],\n",
       "       [14.19190991, 16.94759843],\n",
       "       [33.41490085, 34.47345878],\n",
       "       [19.71989532, 20.86147951],\n",
       "       [29.75621499, 32.22276565],\n",
       "       [ 9.77384948, 13.86010499],\n",
       "       [34.1971238 , 35.34490899],\n",
       "       [28.1083672 , 30.94925176],\n",
       "       [29.32295827, 30.58572527],\n",
       "       [26.41911607, 29.68025414],\n",
       "       [12.40783946, 15.71869554],\n",
       "       [34.46222759, 35.41680913],\n",
       "       [17.72948722, 19.06742834],\n",
       "       [19.05050602, 20.36157986],\n",
       "       [31.19535652, 32.4126367 ],\n",
       "       [ 4.94544727,  9.91144709],\n",
       "       [13.28709888, 15.74492983],\n",
       "       [28.0794816 , 30.38823506],\n",
       "       [30.02131878, 32.29466579],\n",
       "       [30.91525854, 33.34796298],\n",
       "       [13.69428461, 16.76004884],\n",
       "       [28.02441916, 31.13871791],\n",
       "       [ 9.51700007, 13.50945046],\n",
       "       [25.24578164, 28.37307884],\n",
       "       [32.81585933, 34.34365042],\n",
       "       [18.87823018, 19.95303746],\n",
       "       [14.98722129, 17.16329886],\n",
       "       [18.04094478, 19.8320701 ],\n",
       "       [27.85635184, 30.22160185],\n",
       "       [32.20079484, 34.0987443 ],\n",
       "       [14.92697562, 17.45619181],\n",
       "       [30.69212878, 33.18132977],\n",
       "       [16.03374456, 18.436534  ],\n",
       "       [12.17531795, 15.60304609],\n",
       "       [31.09624306, 32.31328092],\n",
       "       [34.86941332, 36.43192814],\n",
       "       [26.82544779, 30.62659625],\n",
       "       [35.21846516, 36.31436214],\n",
       "       [13.44998299, 16.20445599],\n",
       "       [13.73625864, 16.66531576],\n",
       "       [ 8.14222712, 11.87008862],\n",
       "       [31.68359007, 32.65117006],\n",
       "       [ 9.47502605, 13.60418354],\n",
       "       [27.80128939, 30.97208469],\n",
       "       [32.81495047, 34.05307844],\n",
       "       [34.64338333, 35.67817542],\n",
       "       [ 6.1899184 , 11.04753346],\n",
       "       [15.99177054, 18.53126707],\n",
       "       [38.57098205, 38.87846018],\n",
       "       [14.27585796, 16.75813228],\n",
       "       [35.37306485, 36.69204804],\n",
       "       [16.60592617, 18.48560121],\n",
       "       [11.33365281, 14.69460405],\n",
       "       [32.46589863, 34.17064444],\n",
       "       [33.68000464, 34.54535893]])"
      ]
     },
     "execution_count": 15,
     "metadata": {},
     "output_type": "execute_result"
    }
   ],
   "source": [
    "y_pred_ridge = ridge_reg.predict(X_test)\n",
    "y_pred_ridge"
   ]
  },
  {
   "cell_type": "markdown",
   "id": "81d54763",
   "metadata": {},
   "source": [
    "Output the error scores and scores of the Ridge Regression predicition."
   ]
  },
  {
   "cell_type": "code",
   "execution_count": 16,
   "id": "1bcab467",
   "metadata": {},
   "outputs": [
    {
     "name": "stdout",
     "output_type": "stream",
     "text": [
      "Mean Absolute Error             2.2628656618312797\n",
      "Root Mean Squared Error         3.130251468619064\n",
      "Mean Squared Absolute Error     9.798474256791806\n",
      "R2 Score                        0.8995346011629067\n"
     ]
    }
   ],
   "source": [
    "print('Mean Absolute Error', str(mean_absolute_error(y_test, y_pred_ridge)).rjust(30))\n",
    "print('Root Mean Squared Error', str(sqrt(mean_squared_error(y_test, y_pred_ridge))).rjust(25))\n",
    "print('Mean Squared Absolute Error',str(mean_squared_error(y_test, y_pred_ridge)).rjust(21))\n",
    "print('R2 Score', str(r2_score(y_test, y_pred_ridge)).rjust(41))"
   ]
  },
  {
   "cell_type": "markdown",
   "id": "4eaecdcc",
   "metadata": {},
   "source": [
    "Plot a graph of the predicted Ridge Regression data for Heating Load vs the real test data."
   ]
  },
  {
   "cell_type": "code",
   "execution_count": 17,
   "id": "a02b5805",
   "metadata": {},
   "outputs": [
    {
     "data": {
      "text/plain": [
       "Text(0, 0.5, 'Predicted Values')"
      ]
     },
     "execution_count": 17,
     "metadata": {},
     "output_type": "execute_result"
    },
    {
     "data": {
      "image/png": "[encoded data removed]",
      "text/plain": [
       "<Figure size 432x288 with 1 Axes>"
      ]
     },
     "metadata": {
      "needs_background": "light"
     },
     "output_type": "display_data"
    }
   ],
   "source": [
    "plt.scatter(y_test.iloc[:,0], y_pred_ridge[:,0])\n",
    "plt.plot([0,50], [0, 50],\"r-\")\n",
    "plt.title('Ridge Regression Predicted Heating Load')\n",
    "plt.xlabel('Test Values')\n",
    "plt.ylabel('Predicted Values')"
   ]
  },
  {
   "cell_type": "markdown",
   "id": "2bbf0e56",
   "metadata": {},
   "source": [
    "Plot a graph of the predicted Rdige Regression data for Cooling Load vs the real test data."
   ]
  },
  {
   "cell_type": "code",
   "execution_count": 18,
   "id": "a1c4eeff",
   "metadata": {},
   "outputs": [
    {
     "data": {
      "text/plain": [
       "Text(0, 0.5, 'Predicted Values')"
      ]
     },
     "execution_count": 18,
     "metadata": {},
     "output_type": "execute_result"
    },
    {
     "data": {
      "image/png": "[encoded data removed]",
      "text/plain": [
       "<Figure size 432x288 with 1 Axes>"
      ]
     },
     "metadata": {
      "needs_background": "light"
     },
     "output_type": "display_data"
    }
   ],
   "source": [
    "plt.scatter(y_test.iloc[:,1], y_pred_ridge[:,1])\n",
    "plt.plot([0,50], [0, 50],\"r-\")\n",
    "plt.title('Ridge Regression Predicted Cooling Load')\n",
    "plt.xlabel('Test Values')\n",
    "plt.ylabel('Predicted Values')"
   ]
  },
  {
   "cell_type": "markdown",
   "id": "aa957e52",
   "metadata": {},
   "source": [
    "## Lasso Regression"
   ]
  },
  {
   "cell_type": "markdown",
   "id": "595cb0db",
   "metadata": {},
   "source": [
    "Perform Lasso Regression on the normalized data."
   ]
  },
  {
   "cell_type": "code",
   "execution_count": 19,
   "id": "791a8d3b",
   "metadata": {},
   "outputs": [
    {
     "data": {
      "text/plain": [
       "Lasso(alpha=0.2)"
      ]
     },
     "execution_count": 19,
     "metadata": {},
     "output_type": "execute_result"
    }
   ],
   "source": [
    "lasso_reg = Lasso(alpha=0.2)\n",
    "lasso_reg.fit(X_train, y_train)"
   ]
  },
  {
   "cell_type": "markdown",
   "id": "08715db4",
   "metadata": {},
   "source": [
    "Predict the target elements based on the testing data."
   ]
  },
  {
   "cell_type": "code",
   "execution_count": 20,
   "id": "aca570ac",
   "metadata": {},
   "outputs": [
    {
     "data": {
      "text/plain": [
       "array([[18.05086054, 19.19248427],\n",
       "       [13.49281914, 16.33850139],\n",
       "       [31.02031791, 31.92330173],\n",
       "       [33.23124127, 33.98456156],\n",
       "       [15.87402926, 17.90830114],\n",
       "       [29.39937251, 32.07206987],\n",
       "       [28.08212622, 30.84946965],\n",
       "       [29.36528043, 31.29499317],\n",
       "       [16.04153368, 17.80546956],\n",
       "       [29.4888763 , 31.99889449],\n",
       "       [16.78530021, 18.17103963],\n",
       "       [34.9230009 , 36.2674581 ],\n",
       "       [29.86075956, 32.18167953],\n",
       "       [ 9.90051697, 13.55978409],\n",
       "       [17.52906673, 18.5366097 ],\n",
       "       [35.46238859, 36.34741155],\n",
       "       [36.57803838, 36.89576666],\n",
       "       [10.81178792, 13.82252257],\n",
       "       [12.61673594, 14.92392067],\n",
       "       [34.9230009 , 36.2674581 ],\n",
       "       [31.59379767, 32.78033188],\n",
       "       [32.11559148, 33.43620645],\n",
       "       [12.20966492, 15.89297787],\n",
       "       [30.66493285, 33.09351451],\n",
       "       [14.96275831, 17.64556265],\n",
       "       [30.66493285, 33.09351451],\n",
       "       [31.68330146, 32.70715651],\n",
       "       [31.59379767, 32.78033188],\n",
       "       [14.75837947, 17.35994604],\n",
       "       [16.76770633, 18.74696075],\n",
       "       [ 8.78486718, 13.01142898],\n",
       "       [10.06802139, 13.4569525 ],\n",
       "       [15.502146  , 17.72551611],\n",
       "       [29.56687694, 31.96923828],\n",
       "       [29.54928306, 32.5451594 ],\n",
       "       [29.36528043, 31.29499317],\n",
       "       [30.64843464, 31.7405167 ],\n",
       "       [29.54928306, 32.5451594 ],\n",
       "       [31.68330146, 32.70715651],\n",
       "       [ 9.67854425, 13.85008859],\n",
       "       [30.48093022, 31.84334828],\n",
       "       [10.81178792, 13.82252257],\n",
       "       [ 8.45122485, 13.37028787],\n",
       "       [30.32823733, 31.75888724],\n",
       "       [ 9.71678519, 14.39173251],\n",
       "       [ 8.45122485, 13.37028787],\n",
       "       [10.98234552, 15.41317715],\n",
       "       [ 9.67854425, 13.85008859],\n",
       "       [28.3013166 , 30.94779364],\n",
       "       [31.51579703, 32.80998809],\n",
       "       [32.05518472, 32.88994154],\n",
       "       [14.98035219, 17.06964154],\n",
       "       [13.8647024 , 16.52128643],\n",
       "       [31.94808706, 33.53903803],\n",
       "       [12.44923151, 15.02675225],\n",
       "       [14.59087505, 17.46277762],\n",
       "       [10.06802139, 13.4569525 ],\n",
       "       [31.05440999, 32.70037843],\n",
       "       [37.48930932, 37.15850514],\n",
       "       [35.83427185, 36.53019658],\n",
       "       [14.99794606, 16.49372042],\n",
       "       [18.79462707, 19.55805434],\n",
       "       [14.98035219, 17.06964154],\n",
       "       [29.77125577, 32.2548549 ],\n",
       "       [30.48093022, 31.84334828],\n",
       "       [30.66493285, 33.09351451],\n",
       "       [30.66493285, 33.09351451],\n",
       "       [12.20966492, 15.89297787],\n",
       "       [15.85643538, 18.48422226],\n",
       "       [10.43990465, 13.63973754],\n",
       "       [28.74510977, 31.63332442],\n",
       "       [31.76408443, 32.2888718 ],\n",
       "       [13.71479185, 16.04819689],\n",
       "       [28.65560599, 31.7064998 ],\n",
       "       [29.95635407, 31.5761022 ],\n",
       "       [10.06802139, 13.4569525 ],\n",
       "       [32.3375642 , 33.14590195],\n",
       "       [30.31064346, 32.33480836],\n",
       "       [30.27655138, 31.55773166],\n",
       "       [25.79084299, 30.0224694 ],\n",
       "       [28.82589275, 31.21503972],\n",
       "       [31.94808706, 33.53903803],\n",
       "       [10.42231078, 14.21565866],\n",
       "       [16.76770633, 18.74696075],\n",
       "       [12.95343145, 16.25854794],\n",
       "       [13.73238572, 15.47227578],\n",
       "       [27.76192891, 30.86784019],\n",
       "       [35.09050533, 36.16462651],\n",
       "       [29.54928306, 32.5451594 ],\n",
       "       [14.75837947, 17.35994604],\n",
       "       [13.84710852, 17.09720755],\n",
       "       [29.9387602 , 32.15202332],\n",
       "       [10.94410459, 14.87153323],\n",
       "       [14.60846892, 16.8868565 ],\n",
       "       [35.83427185, 36.53019658],\n",
       "       [14.60846892, 16.8868565 ],\n",
       "       [28.50569544, 31.23341026],\n",
       "       [29.78884965, 31.67893378],\n",
       "       [10.79419404, 14.39844369],\n",
       "       [ 9.67854425, 13.85008859],\n",
       "       [36.37365954, 36.61015004],\n",
       "       [28.99339717, 31.11220814],\n",
       "       [ 8.41298392, 12.82864394],\n",
       "       [30.23264282, 32.36446456],\n",
       "       [29.04508312, 31.31336371],\n",
       "       [17.67897728, 19.00969924],\n",
       "       [28.28372272, 31.52371476],\n",
       "       [18.42274381, 19.37526931],\n",
       "       [14.25417954, 16.12815035],\n",
       "       [ 9.69613813, 13.27416747],\n",
       "       [34.17923438, 35.90188803],\n",
       "       [31.07200386, 32.12445731],\n",
       "       [27.71024296, 30.66668461],\n",
       "       [15.51973987, 17.14959499],\n",
       "       [10.43990465, 13.63973754],\n",
       "       [12.61673594, 14.92392067],\n",
       "       [12.05975438, 15.41988833],\n",
       "       [ 9.15675044, 13.19421402],\n",
       "       [13.71479185, 16.04819689],\n",
       "       [27.51779037, 31.1535237 ],\n",
       "       [29.86075956, 32.18167953],\n",
       "       [12.43163764, 15.60267337],\n",
       "       [32.58003171, 35.23930227],\n",
       "       [16.39582307, 18.56417571],\n",
       "       [29.11699303, 31.81610946],\n",
       "       [17.52906673, 18.5366097 ],\n",
       "       [14.6260628 , 16.31093538],\n",
       "       [31.03681611, 33.27629954],\n",
       "       [28.82589275, 31.21503972],\n",
       "       [36.37365954, 36.61015004],\n",
       "       [26.48292356, 30.18688389],\n",
       "       [34.9230009 , 36.2674581 ],\n",
       "       [16.39582307, 18.56417571],\n",
       "       [11.72305886, 14.08526106],\n",
       "       [12.61673594, 14.92392067],\n",
       "       [17.15718347, 18.35382467],\n",
       "       [31.07200386, 32.12445731],\n",
       "       [33.23124127, 33.98456156],\n",
       "       [11.3511756 , 13.90247603],\n",
       "       [16.41341694, 17.9882546 ],\n",
       "       [ 9.67854425, 13.85008859],\n",
       "       [37.48930932, 37.15850514],\n",
       "       [30.10904696, 31.66056324],\n",
       "       [31.51579703, 32.80998809],\n",
       "       [32.42706798, 33.07272658],\n",
       "       [12.58154819, 16.07576291],\n",
       "       [ 9.5286337 , 13.37699905],\n",
       "       [28.74510977, 31.63332442],\n",
       "       [32.79895124, 33.25551161],\n",
       "       [31.20432053, 33.17346796],\n",
       "       [31.31141819, 32.52437147],\n",
       "       [28.67319986, 31.13057868],\n",
       "       [28.3013166 , 30.94779364],\n",
       "       [12.07734825, 14.84396722],\n",
       "       [28.28372272, 31.52371476],\n",
       "       [16.41341694, 17.9882546 ],\n",
       "       [28.67319986, 31.13057868],\n",
       "       [30.02826398, 32.07884795],\n",
       "       [13.32531471, 16.44133298],\n",
       "       [30.40014724, 32.26163298],\n",
       "       [31.31141819, 32.52437147],\n",
       "       [30.83243727, 32.99068293],\n",
       "       [18.42274381, 19.37526931],\n",
       "       [13.47522526, 16.91442251],\n",
       "       [15.13026273, 17.54273107],\n",
       "       [14.59087505, 17.46277762],\n",
       "       [29.02748925, 31.88928483],\n",
       "       [33.80735112, 35.71910299],\n",
       "       [35.29488417, 36.45024313],\n",
       "       [11.31598785, 15.05431826],\n",
       "       [13.51346619, 17.45606644],\n",
       "       [33.80735112, 35.71910299],\n",
       "       [ 9.90051697, 13.55978409],\n",
       "       [31.39220117, 32.10608677],\n",
       "       [16.22831865, 18.66700729],\n",
       "       [32.85935801, 33.80177652],\n",
       "       [12.58154819, 16.07576291],\n",
       "       [12.46682539, 14.45083113],\n",
       "       [34.55111764, 36.08467306],\n",
       "       [34.55111764, 36.08467306],\n",
       "       [ 8.45122485, 13.37028787],\n",
       "       [13.88229627, 15.94536531],\n",
       "       [31.68330146, 32.70715651],\n",
       "       [12.46682539, 14.45083113],\n",
       "       [30.02826398, 32.07884795],\n",
       "       [13.84710852, 17.09720755],\n",
       "       [30.10904696, 31.66056324],\n",
       "       [10.97929234, 13.71969099],\n",
       "       [10.96169846, 14.29561211],\n",
       "       [32.48747474, 33.61899149],\n",
       "       [27.51779037, 31.1535237 ],\n",
       "       [15.14785661, 16.96680995],\n",
       "       [35.46238859, 36.34741155],\n",
       "       [ 8.41298392, 12.82864394],\n",
       "       [31.20432053, 33.17346796],\n",
       "       [32.31997032, 33.72182307],\n",
       "       [28.45400948, 31.03225468],\n",
       "       [13.71479185, 16.04819689],\n",
       "       [28.99339717, 31.11220814],\n",
       "       [12.58154819, 16.07576291],\n",
       "       [12.24485267, 14.74113563],\n",
       "       [32.05518472, 32.88994154],\n",
       "       [18.42274381, 19.37526931],\n",
       "       [29.04508312, 31.31336371],\n",
       "       [12.24790586, 16.43462179],\n",
       "       [31.59379767, 32.78033188],\n",
       "       [28.65560599, 31.7064998 ],\n",
       "       [30.48093022, 31.84334828],\n",
       "       [27.01816239, 30.50227012],\n",
       "       [12.2272588 , 15.31705675],\n",
       "       [31.96568093, 32.96311691],\n",
       "       [16.2635064 , 17.51516506],\n",
       "       [17.30709402, 18.8269142 ],\n",
       "       [30.27655138, 31.55773166],\n",
       "       [ 7.18566451, 12.34884323],\n",
       "       [13.34290859, 15.86541186],\n",
       "       [30.23264282, 32.36446456],\n",
       "       [29.41696639, 31.49614875],\n",
       "       [29.9387602 , 32.15202332],\n",
       "       [13.49281914, 16.33850139],\n",
       "       [28.65560599, 31.7064998 ],\n",
       "       [10.94410459, 14.87153323],\n",
       "       [27.71024296, 30.66668461],\n",
       "       [31.94808706, 33.53903803],\n",
       "       [17.52906673, 18.5366097 ],\n",
       "       [13.36050246, 15.28949074],\n",
       "       [16.41341694, 17.9882546 ],\n",
       "       [29.86075956, 32.18167953],\n",
       "       [29.58447081, 31.39331717],\n",
       "       [14.75837947, 17.35994604],\n",
       "       [29.56687694, 31.96923828],\n",
       "       [16.02393981, 18.38139068],\n",
       "       [13.84710852, 17.09720755],\n",
       "       [31.51579703, 32.80998809],\n",
       "       [32.11559148, 33.43620645],\n",
       "       [28.32196366, 32.06535868],\n",
       "       [32.48747474, 33.61899149],\n",
       "       [15.11266886, 18.11865219],\n",
       "       [13.49281914, 16.33850139],\n",
       "       [ 9.90051697, 13.55978409],\n",
       "       [31.02031791, 31.92330173],\n",
       "       [10.94410459, 14.87153323],\n",
       "       [28.28372272, 31.52371476],\n",
       "       [30.32823733, 31.75888724],\n",
       "       [32.3375642 , 33.14590195],\n",
       "       [ 8.45122485, 13.37028787],\n",
       "       [16.02393981, 18.38139068],\n",
       "       [36.7455428 , 36.79293507],\n",
       "       [12.24485267, 14.74113563],\n",
       "       [35.09050533, 36.16462651],\n",
       "       [16.76770633, 18.74696075],\n",
       "       [12.95343145, 16.25854794],\n",
       "       [29.95635407, 31.5761022 ],\n",
       "       [32.42706798, 33.07272658]])"
      ]
     },
     "execution_count": 20,
     "metadata": {},
     "output_type": "execute_result"
    }
   ],
   "source": [
    "y_pred_lasso = lasso_reg.predict(X_test)\n",
    "y_pred_lasso"
   ]
  },
  {
   "cell_type": "code",
   "execution_count": 21,
   "id": "72504bef",
   "metadata": {},
   "outputs": [
    {
     "name": "stdout",
     "output_type": "stream",
     "text": [
      "Mean Absolute Error             2.6244742250819693\n",
      "Root Mean Squared Error           3.55975563075367\n",
      "Mean Squared Absolute Error     12.671860150682459\n",
      "R2 Score                        0.8700113674552772\n"
     ]
    }
   ],
   "source": [
    "print('Mean Absolute Error', str(mean_absolute_error(y_test, y_pred_lasso)).rjust(30))\n",
    "print('Root Mean Squared Error', str(sqrt(mean_squared_error(y_test, y_pred_lasso))).rjust(26))\n",
    "print('Mean Squared Absolute Error',str(mean_squared_error(y_test, y_pred_lasso)).rjust(22))\n",
    "print('R2 Score', str(r2_score(y_test, y_pred_lasso)).rjust(41))"
   ]
  },
  {
   "cell_type": "markdown",
   "id": "e00ff440",
   "metadata": {},
   "source": [
    "Plot a graph of the predicted Lasso Regression data for Heating Load vs the real test data."
   ]
  },
  {
   "cell_type": "code",
   "execution_count": 22,
   "id": "f2760be0",
   "metadata": {},
   "outputs": [
    {
     "data": {
      "text/plain": [
       "Text(0, 0.5, 'Predicted Values')"
      ]
     },
     "execution_count": 22,
     "metadata": {},
     "output_type": "execute_result"
    },
    {
     "data": {
      "image/png": "[encoded data removed]",
      "text/plain": [
       "<Figure size 432x288 with 1 Axes>"
      ]
     },
     "metadata": {
      "needs_background": "light"
     },
     "output_type": "display_data"
    }
   ],
   "source": [
    "plt.scatter(y_test.iloc[:,0], y_pred_lasso[:,0])\n",
    "plt.plot([0,50], [0, 50],\"r-\")\n",
    "plt.title('Lasso Regression Predicted Heating Load')\n",
    "plt.xlabel('Test Values')\n",
    "plt.ylabel('Predicted Values')"
   ]
  },
  {
   "cell_type": "markdown",
   "id": "49ede59a",
   "metadata": {},
   "source": [
    "Plot a graph of the predicted Lasso Regression data for Cooling Load vs the real test data."
   ]
  },
  {
   "cell_type": "code",
   "execution_count": 23,
   "id": "b0d78702",
   "metadata": {},
   "outputs": [
    {
     "data": {
      "text/plain": [
       "Text(0, 0.5, 'Predicted Values')"
      ]
     },
     "execution_count": 23,
     "metadata": {},
     "output_type": "execute_result"
    },
    {
     "data": {
      "image/png": "[encoded data removed]",
      "text/plain": [
       "<Figure size 432x288 with 1 Axes>"
      ]
     },
     "metadata": {
      "needs_background": "light"
     },
     "output_type": "display_data"
    }
   ],
   "source": [
    "plt.scatter(y_test.iloc[:,1], y_pred_lasso[:,1])\n",
    "plt.plot([0,50], [0, 50],\"r-\")\n",
    "plt.title('Lasso Regression Predicted Cooling Load')\n",
    "plt.xlabel('Test Values')\n",
    "plt.ylabel('Predicted Values')"
   ]
  },
  {
   "cell_type": "code",
   "execution_count": 24,
   "id": "0002c6ed",
   "metadata": {},
   "outputs": [
    {
     "data": {
      "text/plain": [
       "Text(0, 0.5, 'R2 Score')"
      ]
     },
     "execution_count": 24,
     "metadata": {},
     "output_type": "execute_result"
    },
    {
     "data": {
      "image/png": "[encoded data removed]",
      "text/plain": [
       "<Figure size 432x288 with 1 Axes>"
      ]
     },
     "metadata": {
      "needs_background": "light"
     },
     "output_type": "display_data"
    }
   ],
   "source": [
    "r2_linear=r2_score(y_test, y_pred)\n",
    "r2_ridge=r2_score(y_test, y_pred_ridge)\n",
    "r2_lasso=r2_score(y_test, y_pred_lasso)\n",
    "r2=[r2_linear,r2_linear,r2_linear]\n",
    "plt.bar(['Linear Regression','Ridge Regression', 'Lasso Regression'], r2,color=['red','green','blue'])\n",
    "plt.title('Regression R2 Scores')\n",
    "plt.ylabel('R2 Score')"
   ]
  }
 ],
 "metadata": {
  "kernelspec": {
   "display_name": "Python 3",
   "language": "python",
   "name": "python3"
  },
  "language_info": {
   "codemirror_mode": {
    "name": "ipython",
    "version": 3
   },
   "file_extension": ".py",
   "mimetype": "text/x-python",
   "name": "python",
   "nbconvert_exporter": "python",
   "pygments_lexer": "ipython3",
   "version": "3.8.8"
  }
 },
 "nbformat": 4,
 "nbformat_minor": 5
}
